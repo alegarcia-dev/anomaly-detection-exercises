{
 "cells": [
  {
   "cell_type": "code",
   "execution_count": 1,
   "id": "3de9c9a4-694b-42e8-ac4d-c8ef01b40685",
   "metadata": {},
   "outputs": [],
   "source": [
    "import pandas as pd\n",
    "import matplotlib.pyplot as plt\n",
    "import seaborn as sns\n",
    "from mpl_toolkits.mplot3d import Axes3D\n",
    "\n",
    "from sklearn.cluster import DBSCAN\n",
    "from sklearn.preprocessing import MinMaxScaler\n",
    "\n",
    "from get_db_url import get_db_url"
   ]
  },
  {
   "cell_type": "markdown",
   "id": "364bf1e5-8706-4477-9c06-30ab58ed6ab4",
   "metadata": {},
   "source": [
    "# Clustering Anomaly Detection Exercises\n",
    "\n",
    "## 1\n",
    "\n",
    "Use DBSCAN to detect anomalies in other products from the customers dataset. The database name is grocery_db."
   ]
  },
  {
   "cell_type": "code",
   "execution_count": 2,
   "id": "859c5255-ef3c-4012-8f7d-9552dcb7d213",
   "metadata": {},
   "outputs": [
    {
     "name": "stdout",
     "output_type": "stream",
     "text": [
      "<class 'pandas.core.frame.DataFrame'>\n",
      "Int64Index: 440 entries, 0 to 439\n",
      "Data columns (total 8 columns):\n",
      " #   Column            Non-Null Count  Dtype\n",
      "---  ------            --------------  -----\n",
      " 0   Channel           440 non-null    int64\n",
      " 1   Region            440 non-null    int64\n",
      " 2   Fresh             440 non-null    int64\n",
      " 3   Milk              440 non-null    int64\n",
      " 4   Grocery           440 non-null    int64\n",
      " 5   Frozen            440 non-null    int64\n",
      " 6   Detergents_Paper  440 non-null    int64\n",
      " 7   Delicassen        440 non-null    int64\n",
      "dtypes: int64(8)\n",
      "memory usage: 30.9 KB\n"
     ]
    }
   ],
   "source": [
    "# Load the grocery customers data\n",
    "grocery = pd.read_sql('SELECT * FROM grocery_customers', get_db_url('grocery_db'), index_col = 'customer_id')\n",
    "grocery.info()"
   ]
  },
  {
   "cell_type": "code",
   "execution_count": 3,
   "id": "2b5f3db7-911b-4ac9-9b90-8db1bfa8eb62",
   "metadata": {},
   "outputs": [
    {
     "data": {
      "text/html": [
       "<div>\n",
       "<style scoped>\n",
       "    .dataframe tbody tr th:only-of-type {\n",
       "        vertical-align: middle;\n",
       "    }\n",
       "\n",
       "    .dataframe tbody tr th {\n",
       "        vertical-align: top;\n",
       "    }\n",
       "\n",
       "    .dataframe thead th {\n",
       "        text-align: right;\n",
       "    }\n",
       "</style>\n",
       "<table border=\"1\" class=\"dataframe\">\n",
       "  <thead>\n",
       "    <tr style=\"text-align: right;\">\n",
       "      <th></th>\n",
       "      <th>Channel</th>\n",
       "      <th>Region</th>\n",
       "      <th>Fresh</th>\n",
       "      <th>Milk</th>\n",
       "      <th>Grocery</th>\n",
       "      <th>Frozen</th>\n",
       "      <th>Detergents_Paper</th>\n",
       "      <th>Delicassen</th>\n",
       "    </tr>\n",
       "    <tr>\n",
       "      <th>customer_id</th>\n",
       "      <th></th>\n",
       "      <th></th>\n",
       "      <th></th>\n",
       "      <th></th>\n",
       "      <th></th>\n",
       "      <th></th>\n",
       "      <th></th>\n",
       "      <th></th>\n",
       "    </tr>\n",
       "  </thead>\n",
       "  <tbody>\n",
       "    <tr>\n",
       "      <th>0</th>\n",
       "      <td>2</td>\n",
       "      <td>3</td>\n",
       "      <td>12669</td>\n",
       "      <td>9656</td>\n",
       "      <td>7561</td>\n",
       "      <td>214</td>\n",
       "      <td>2674</td>\n",
       "      <td>1338</td>\n",
       "    </tr>\n",
       "    <tr>\n",
       "      <th>1</th>\n",
       "      <td>2</td>\n",
       "      <td>3</td>\n",
       "      <td>7057</td>\n",
       "      <td>9810</td>\n",
       "      <td>9568</td>\n",
       "      <td>1762</td>\n",
       "      <td>3293</td>\n",
       "      <td>1776</td>\n",
       "    </tr>\n",
       "    <tr>\n",
       "      <th>2</th>\n",
       "      <td>2</td>\n",
       "      <td>3</td>\n",
       "      <td>6353</td>\n",
       "      <td>8808</td>\n",
       "      <td>7684</td>\n",
       "      <td>2405</td>\n",
       "      <td>3516</td>\n",
       "      <td>7844</td>\n",
       "    </tr>\n",
       "    <tr>\n",
       "      <th>3</th>\n",
       "      <td>1</td>\n",
       "      <td>3</td>\n",
       "      <td>13265</td>\n",
       "      <td>1196</td>\n",
       "      <td>4221</td>\n",
       "      <td>6404</td>\n",
       "      <td>507</td>\n",
       "      <td>1788</td>\n",
       "    </tr>\n",
       "    <tr>\n",
       "      <th>4</th>\n",
       "      <td>2</td>\n",
       "      <td>3</td>\n",
       "      <td>22615</td>\n",
       "      <td>5410</td>\n",
       "      <td>7198</td>\n",
       "      <td>3915</td>\n",
       "      <td>1777</td>\n",
       "      <td>5185</td>\n",
       "    </tr>\n",
       "  </tbody>\n",
       "</table>\n",
       "</div>"
      ],
      "text/plain": [
       "             Channel  Region  Fresh  Milk  Grocery  Frozen  Detergents_Paper  \\\n",
       "customer_id                                                                    \n",
       "0                  2       3  12669  9656     7561     214              2674   \n",
       "1                  2       3   7057  9810     9568    1762              3293   \n",
       "2                  2       3   6353  8808     7684    2405              3516   \n",
       "3                  1       3  13265  1196     4221    6404               507   \n",
       "4                  2       3  22615  5410     7198    3915              1777   \n",
       "\n",
       "             Delicassen  \n",
       "customer_id              \n",
       "0                  1338  \n",
       "1                  1776  \n",
       "2                  7844  \n",
       "3                  1788  \n",
       "4                  5185  "
      ]
     },
     "execution_count": 3,
     "metadata": {},
     "output_type": "execute_result"
    }
   ],
   "source": [
    "grocery.head()"
   ]
  },
  {
   "cell_type": "code",
   "execution_count": 4,
   "id": "234d2bf7-2bf7-4af3-9ee7-079e5254b201",
   "metadata": {},
   "outputs": [],
   "source": [
    "# Let's look for anomalies in cold storage foods.\n",
    "columns = [\n",
    "    'Milk',\n",
    "    'Frozen',\n",
    "    'Delicassen'\n",
    "]\n",
    "\n",
    "refrigerated = grocery[columns]"
   ]
  },
  {
   "cell_type": "code",
   "execution_count": 5,
   "id": "c28a06c4-755b-4102-bb98-6b420a1591f8",
   "metadata": {},
   "outputs": [
    {
     "data": {
      "text/html": [
       "<div>\n",
       "<style scoped>\n",
       "    .dataframe tbody tr th:only-of-type {\n",
       "        vertical-align: middle;\n",
       "    }\n",
       "\n",
       "    .dataframe tbody tr th {\n",
       "        vertical-align: top;\n",
       "    }\n",
       "\n",
       "    .dataframe thead th {\n",
       "        text-align: right;\n",
       "    }\n",
       "</style>\n",
       "<table border=\"1\" class=\"dataframe\">\n",
       "  <thead>\n",
       "    <tr style=\"text-align: right;\">\n",
       "      <th></th>\n",
       "      <th>Milk</th>\n",
       "      <th>Frozen</th>\n",
       "      <th>Delicassen</th>\n",
       "    </tr>\n",
       "  </thead>\n",
       "  <tbody>\n",
       "    <tr>\n",
       "      <th>0</th>\n",
       "      <td>0.130727</td>\n",
       "      <td>0.003106</td>\n",
       "      <td>0.027847</td>\n",
       "    </tr>\n",
       "    <tr>\n",
       "      <th>1</th>\n",
       "      <td>0.132824</td>\n",
       "      <td>0.028548</td>\n",
       "      <td>0.036984</td>\n",
       "    </tr>\n",
       "    <tr>\n",
       "      <th>2</th>\n",
       "      <td>0.119181</td>\n",
       "      <td>0.039116</td>\n",
       "      <td>0.163559</td>\n",
       "    </tr>\n",
       "    <tr>\n",
       "      <th>3</th>\n",
       "      <td>0.015536</td>\n",
       "      <td>0.104842</td>\n",
       "      <td>0.037234</td>\n",
       "    </tr>\n",
       "    <tr>\n",
       "      <th>4</th>\n",
       "      <td>0.072914</td>\n",
       "      <td>0.063934</td>\n",
       "      <td>0.108093</td>\n",
       "    </tr>\n",
       "  </tbody>\n",
       "</table>\n",
       "</div>"
      ],
      "text/plain": [
       "       Milk    Frozen  Delicassen\n",
       "0  0.130727  0.003106    0.027847\n",
       "1  0.132824  0.028548    0.036984\n",
       "2  0.119181  0.039116    0.163559\n",
       "3  0.015536  0.104842    0.037234\n",
       "4  0.072914  0.063934    0.108093"
      ]
     },
     "execution_count": 5,
     "metadata": {},
     "output_type": "execute_result"
    }
   ],
   "source": [
    "# Splitting data? Who needs it?\n",
    "scaler = MinMaxScaler()\n",
    "refrigerated = pd.DataFrame(scaler.fit_transform(refrigerated), columns = refrigerated.columns)\n",
    "refrigerated.head()"
   ]
  },
  {
   "cell_type": "code",
   "execution_count": 6,
   "id": "39fc8fa1-85a7-4383-a6bc-68413de60837",
   "metadata": {},
   "outputs": [
    {
     "data": {
      "text/plain": [
       "DBSCAN(eps=0.1, min_samples=20)"
      ]
     },
     "execution_count": 6,
     "metadata": {},
     "output_type": "execute_result"
    }
   ],
   "source": [
    "# Now let's create the DBSCAN model\n",
    "db_scan = DBSCAN(eps = 0.1, min_samples = 20)\n",
    "db_scan.fit(refrigerated)"
   ]
  },
  {
   "cell_type": "code",
   "execution_count": 7,
   "id": "05a4145e-7190-4bf4-ba0a-76cec43d22a9",
   "metadata": {},
   "outputs": [],
   "source": [
    "# Let's create a column for the cluster labels\n",
    "grocery['labels'] = db_scan.labels_"
   ]
  },
  {
   "cell_type": "code",
   "execution_count": 8,
   "id": "bbb1517f-84fe-491f-89df-e2a7018ccba1",
   "metadata": {},
   "outputs": [
    {
     "name": "stderr",
     "output_type": "stream",
     "text": [
      "/var/folders/45/z3vf0vrn1fz5mzs6sp418wym0000gn/T/ipykernel_1299/2730259329.py:4: MatplotlibDeprecationWarning: Axes3D(fig) adding itself to the figure is deprecated since 3.4. Pass the keyword argument auto_add_to_figure=False and use fig.add_axes(ax) to suppress this warning. The default value of auto_add_to_figure will change to False in mpl3.5 and True values will no longer work in 3.6.  This is consistent with other Axes classes.\n",
      "  ax = Axes3D(fig, rect=[0, 0, .95, 1])\n"
     ]
    },
    {
     "data": {
      "text/plain": [
       "Text(0.5, 0, 'Grocery')"
      ]
     },
     "execution_count": 8,
     "metadata": {},
     "output_type": "execute_result"
    },
    {
     "data": {
      "image/png": "[encoded data removed]",
      "text/plain": [
       "<Figure size 576x576 with 1 Axes>"
      ]
     },
     "metadata": {
      "needs_background": "light"
     },
     "output_type": "display_data"
    }
   ],
   "source": [
    "# Now let's plot the results\n",
    "\n",
    "fig = plt.figure(figsize = (8, 8))\n",
    "ax = Axes3D(fig, rect=[0, 0, .95, 1])\n",
    "\n",
    "ax.scatter(grocery.Milk, grocery.Frozen, grocery.Delicassen, c = grocery.labels)\n",
    "\n",
    "ax.set_xlabel('Fresh')\n",
    "ax.set_ylabel('Milk')\n",
    "ax.set_zlabel('Grocery')"
   ]
  },
  {
   "cell_type": "markdown",
   "id": "3cb17fed-c967-4bdd-8e92-99e945c1ad35",
   "metadata": {},
   "source": [
    "## 2\n",
    "\n",
    "Use DBSCAN to detect anomalies in requests from the curriculum access logs in the curriculum_logs database."
   ]
  },
  {
   "cell_type": "code",
   "execution_count": 9,
   "id": "369aefee-01b1-49ef-9393-74dd37ef059a",
   "metadata": {},
   "outputs": [
    {
     "name": "stdout",
     "output_type": "stream",
     "text": [
      "<class 'pandas.core.frame.DataFrame'>\n",
      "RangeIndex: 900223 entries, 0 to 900222\n",
      "Data columns (total 6 columns):\n",
      " #   Column     Non-Null Count   Dtype  \n",
      "---  ------     --------------   -----  \n",
      " 0   date       900223 non-null  object \n",
      " 1   time       900223 non-null  object \n",
      " 2   path       900222 non-null  object \n",
      " 3   user_id    900223 non-null  int64  \n",
      " 4   cohort_id  847330 non-null  float64\n",
      " 5   ip         900223 non-null  object \n",
      "dtypes: float64(1), int64(1), object(4)\n",
      "memory usage: 41.2+ MB\n"
     ]
    }
   ],
   "source": [
    "# The SQL query we'll use to read the data from the database.\n",
    "sql = '''\n",
    "SELECT\n",
    "    *\n",
    "FROM logs;\n",
    "'''\n",
    "\n",
    "# Download the curriculum logs data from the MySQL database.\n",
    "logs = pd.read_sql(sql, get_db_url('curriculum_logs'))\n",
    "logs.info()"
   ]
  },
  {
   "cell_type": "code",
   "execution_count": 20,
   "id": "b2a710de-6397-45bd-9e00-c472a703b20f",
   "metadata": {},
   "outputs": [
    {
     "data": {
      "text/html": [
       "<div>\n",
       "<style scoped>\n",
       "    .dataframe tbody tr th:only-of-type {\n",
       "        vertical-align: middle;\n",
       "    }\n",
       "\n",
       "    .dataframe tbody tr th {\n",
       "        vertical-align: top;\n",
       "    }\n",
       "\n",
       "    .dataframe thead th {\n",
       "        text-align: right;\n",
       "    }\n",
       "</style>\n",
       "<table border=\"1\" class=\"dataframe\">\n",
       "  <thead>\n",
       "    <tr style=\"text-align: right;\">\n",
       "      <th></th>\n",
       "      <th>date</th>\n",
       "      <th>path</th>\n",
       "      <th>cohort_id</th>\n",
       "    </tr>\n",
       "    <tr>\n",
       "      <th>user_id</th>\n",
       "      <th></th>\n",
       "      <th></th>\n",
       "      <th></th>\n",
       "    </tr>\n",
       "  </thead>\n",
       "  <tbody>\n",
       "    <tr>\n",
       "      <th>1</th>\n",
       "      <td>637</td>\n",
       "      <td>976</td>\n",
       "      <td>2</td>\n",
       "    </tr>\n",
       "    <tr>\n",
       "      <th>2</th>\n",
       "      <td>83</td>\n",
       "      <td>151</td>\n",
       "      <td>1</td>\n",
       "    </tr>\n",
       "    <tr>\n",
       "      <th>3</th>\n",
       "      <td>107</td>\n",
       "      <td>169</td>\n",
       "      <td>1</td>\n",
       "    </tr>\n",
       "    <tr>\n",
       "      <th>4</th>\n",
       "      <td>54</td>\n",
       "      <td>143</td>\n",
       "      <td>1</td>\n",
       "    </tr>\n",
       "    <tr>\n",
       "      <th>5</th>\n",
       "      <td>82</td>\n",
       "      <td>197</td>\n",
       "      <td>1</td>\n",
       "    </tr>\n",
       "    <tr>\n",
       "      <th>...</th>\n",
       "      <td>...</td>\n",
       "      <td>...</td>\n",
       "      <td>...</td>\n",
       "    </tr>\n",
       "    <tr>\n",
       "      <th>977</th>\n",
       "      <td>10</td>\n",
       "      <td>12</td>\n",
       "      <td>1</td>\n",
       "    </tr>\n",
       "    <tr>\n",
       "      <th>978</th>\n",
       "      <td>9</td>\n",
       "      <td>18</td>\n",
       "      <td>1</td>\n",
       "    </tr>\n",
       "    <tr>\n",
       "      <th>979</th>\n",
       "      <td>9</td>\n",
       "      <td>20</td>\n",
       "      <td>1</td>\n",
       "    </tr>\n",
       "    <tr>\n",
       "      <th>980</th>\n",
       "      <td>3</td>\n",
       "      <td>1</td>\n",
       "      <td>1</td>\n",
       "    </tr>\n",
       "    <tr>\n",
       "      <th>981</th>\n",
       "      <td>3</td>\n",
       "      <td>9</td>\n",
       "      <td>1</td>\n",
       "    </tr>\n",
       "  </tbody>\n",
       "</table>\n",
       "<p>981 rows × 3 columns</p>\n",
       "</div>"
      ],
      "text/plain": [
       "         date  path  cohort_id\n",
       "user_id                       \n",
       "1         637   976          2\n",
       "2          83   151          1\n",
       "3         107   169          1\n",
       "4          54   143          1\n",
       "5          82   197          1\n",
       "...       ...   ...        ...\n",
       "977        10    12          1\n",
       "978         9    18          1\n",
       "979         9    20          1\n",
       "980         3     1          1\n",
       "981         3     9          1\n",
       "\n",
       "[981 rows x 3 columns]"
      ]
     },
     "execution_count": 20,
     "metadata": {},
     "output_type": "execute_result"
    }
   ],
   "source": [
    "# Aggregate the data to get the total unique values for date, path, and cohort_id.\n",
    "id_counts = logs.groupby('user_id')[['date','path','cohort_id']].nunique()\n",
    "id_counts"
   ]
  },
  {
   "cell_type": "code",
   "execution_count": 21,
   "id": "21d6c690-1a1b-42ea-80e9-a58a76675587",
   "metadata": {},
   "outputs": [
    {
     "data": {
      "text/html": [
       "<div>\n",
       "<style scoped>\n",
       "    .dataframe tbody tr th:only-of-type {\n",
       "        vertical-align: middle;\n",
       "    }\n",
       "\n",
       "    .dataframe tbody tr th {\n",
       "        vertical-align: top;\n",
       "    }\n",
       "\n",
       "    .dataframe thead th {\n",
       "        text-align: right;\n",
       "    }\n",
       "</style>\n",
       "<table border=\"1\" class=\"dataframe\">\n",
       "  <thead>\n",
       "    <tr style=\"text-align: right;\">\n",
       "      <th></th>\n",
       "      <th>date</th>\n",
       "      <th>path</th>\n",
       "      <th>cohort_id</th>\n",
       "    </tr>\n",
       "  </thead>\n",
       "  <tbody>\n",
       "    <tr>\n",
       "      <th>0</th>\n",
       "      <td>0.768116</td>\n",
       "      <td>1.000000</td>\n",
       "      <td>0.666667</td>\n",
       "    </tr>\n",
       "    <tr>\n",
       "      <th>1</th>\n",
       "      <td>0.099034</td>\n",
       "      <td>0.153846</td>\n",
       "      <td>0.333333</td>\n",
       "    </tr>\n",
       "    <tr>\n",
       "      <th>2</th>\n",
       "      <td>0.128019</td>\n",
       "      <td>0.172308</td>\n",
       "      <td>0.333333</td>\n",
       "    </tr>\n",
       "    <tr>\n",
       "      <th>3</th>\n",
       "      <td>0.064010</td>\n",
       "      <td>0.145641</td>\n",
       "      <td>0.333333</td>\n",
       "    </tr>\n",
       "    <tr>\n",
       "      <th>4</th>\n",
       "      <td>0.097826</td>\n",
       "      <td>0.201026</td>\n",
       "      <td>0.333333</td>\n",
       "    </tr>\n",
       "  </tbody>\n",
       "</table>\n",
       "</div>"
      ],
      "text/plain": [
       "       date      path  cohort_id\n",
       "0  0.768116  1.000000   0.666667\n",
       "1  0.099034  0.153846   0.333333\n",
       "2  0.128019  0.172308   0.333333\n",
       "3  0.064010  0.145641   0.333333\n",
       "4  0.097826  0.201026   0.333333"
      ]
     },
     "execution_count": 21,
     "metadata": {},
     "output_type": "execute_result"
    }
   ],
   "source": [
    "# Here we'll scale the data before building the DBSCAN model.\n",
    "# Splitting data? Yeah right.\n",
    "\n",
    "scaler = MinMaxScaler()\n",
    "id_counts_scaled = pd.DataFrame(scaler.fit_transform(id_counts), columns = id_counts.columns)\n",
    "id_counts_scaled.head()"
   ]
  },
  {
   "cell_type": "code",
   "execution_count": 22,
   "id": "be889dd5-da58-4fdc-9ef2-94474a66c1ab",
   "metadata": {},
   "outputs": [
    {
     "data": {
      "text/plain": [
       "DBSCAN(eps=0.1)"
      ]
     },
     "execution_count": 22,
     "metadata": {},
     "output_type": "execute_result"
    }
   ],
   "source": [
    "# Now let's use DBSCAN to find anomolies in the id_counts dataframe.\n",
    "\n",
    "db_scan = DBSCAN(eps = 0.1, min_samples = 5)\n",
    "db_scan.fit(id_counts_scaled)"
   ]
  },
  {
   "cell_type": "code",
   "execution_count": 23,
   "id": "ab4db454-27a0-4b99-916c-e5a6ed17e7ee",
   "metadata": {},
   "outputs": [],
   "source": [
    "# Assign the labels created by DBSCAN to the id_counts dataframe.\n",
    "id_counts['labels'] = db_scan.labels_"
   ]
  },
  {
   "cell_type": "code",
   "execution_count": 24,
   "id": "7ff6e5d5-75b5-4319-afc5-ad2e2e5c753c",
   "metadata": {},
   "outputs": [
    {
     "data": {
      "image/png": "[encoded data removed]",
      "text/plain": [
       "<Figure size 1008x432 with 2 Axes>"
      ]
     },
     "metadata": {
      "needs_background": "light"
     },
     "output_type": "display_data"
    }
   ],
   "source": [
    "# Now let's see the results.\n",
    "\n",
    "fig, ax = plt.subplots(ncols = 2, nrows = 1, figsize = (14, 6))\n",
    "\n",
    "sns.scatterplot(data = id_counts, x = 'date', y = 'path', hue = 'labels', ax = ax[0])\n",
    "sns.scatterplot(data = id_counts, x = 'date', y = 'cohort_id', hue = 'labels', ax = ax[1]);"
   ]
  },
  {
   "cell_type": "markdown",
   "id": "9347410a-3b95-458e-bcf3-447e1e59b28b",
   "metadata": {},
   "source": [
    "We can see that there are a handful of anomalies. Let's see these specific rows."
   ]
  },
  {
   "cell_type": "code",
   "execution_count": 25,
   "id": "f33d8899-0fea-47f3-a7e2-504a0d5f3d4f",
   "metadata": {},
   "outputs": [
    {
     "data": {
      "text/html": [
       "<div>\n",
       "<style scoped>\n",
       "    .dataframe tbody tr th:only-of-type {\n",
       "        vertical-align: middle;\n",
       "    }\n",
       "\n",
       "    .dataframe tbody tr th {\n",
       "        vertical-align: top;\n",
       "    }\n",
       "\n",
       "    .dataframe thead th {\n",
       "        text-align: right;\n",
       "    }\n",
       "</style>\n",
       "<table border=\"1\" class=\"dataframe\">\n",
       "  <thead>\n",
       "    <tr style=\"text-align: right;\">\n",
       "      <th></th>\n",
       "      <th>date</th>\n",
       "      <th>path</th>\n",
       "      <th>cohort_id</th>\n",
       "      <th>labels</th>\n",
       "    </tr>\n",
       "    <tr>\n",
       "      <th>user_id</th>\n",
       "      <th></th>\n",
       "      <th></th>\n",
       "      <th></th>\n",
       "      <th></th>\n",
       "    </tr>\n",
       "  </thead>\n",
       "  <tbody>\n",
       "    <tr>\n",
       "      <th>1</th>\n",
       "      <td>637</td>\n",
       "      <td>976</td>\n",
       "      <td>2</td>\n",
       "      <td>-1</td>\n",
       "    </tr>\n",
       "    <tr>\n",
       "      <th>11</th>\n",
       "      <td>829</td>\n",
       "      <td>871</td>\n",
       "      <td>2</td>\n",
       "      <td>-1</td>\n",
       "    </tr>\n",
       "    <tr>\n",
       "      <th>53</th>\n",
       "      <td>772</td>\n",
       "      <td>333</td>\n",
       "      <td>2</td>\n",
       "      <td>-1</td>\n",
       "    </tr>\n",
       "    <tr>\n",
       "      <th>64</th>\n",
       "      <td>744</td>\n",
       "      <td>437</td>\n",
       "      <td>3</td>\n",
       "      <td>-1</td>\n",
       "    </tr>\n",
       "    <tr>\n",
       "      <th>88</th>\n",
       "      <td>77</td>\n",
       "      <td>197</td>\n",
       "      <td>3</td>\n",
       "      <td>-1</td>\n",
       "    </tr>\n",
       "    <tr>\n",
       "      <th>211</th>\n",
       "      <td>560</td>\n",
       "      <td>210</td>\n",
       "      <td>2</td>\n",
       "      <td>-1</td>\n",
       "    </tr>\n",
       "    <tr>\n",
       "      <th>248</th>\n",
       "      <td>378</td>\n",
       "      <td>625</td>\n",
       "      <td>2</td>\n",
       "      <td>-1</td>\n",
       "    </tr>\n",
       "    <tr>\n",
       "      <th>314</th>\n",
       "      <td>467</td>\n",
       "      <td>225</td>\n",
       "      <td>2</td>\n",
       "      <td>-1</td>\n",
       "    </tr>\n",
       "    <tr>\n",
       "      <th>315</th>\n",
       "      <td>457</td>\n",
       "      <td>215</td>\n",
       "      <td>2</td>\n",
       "      <td>-1</td>\n",
       "    </tr>\n",
       "    <tr>\n",
       "      <th>362</th>\n",
       "      <td>455</td>\n",
       "      <td>188</td>\n",
       "      <td>0</td>\n",
       "      <td>-1</td>\n",
       "    </tr>\n",
       "    <tr>\n",
       "      <th>428</th>\n",
       "      <td>389</td>\n",
       "      <td>266</td>\n",
       "      <td>2</td>\n",
       "      <td>-1</td>\n",
       "    </tr>\n",
       "    <tr>\n",
       "      <th>480</th>\n",
       "      <td>375</td>\n",
       "      <td>297</td>\n",
       "      <td>2</td>\n",
       "      <td>-1</td>\n",
       "    </tr>\n",
       "    <tr>\n",
       "      <th>581</th>\n",
       "      <td>350</td>\n",
       "      <td>354</td>\n",
       "      <td>2</td>\n",
       "      <td>-1</td>\n",
       "    </tr>\n",
       "  </tbody>\n",
       "</table>\n",
       "</div>"
      ],
      "text/plain": [
       "         date  path  cohort_id  labels\n",
       "user_id                               \n",
       "1         637   976          2      -1\n",
       "11        829   871          2      -1\n",
       "53        772   333          2      -1\n",
       "64        744   437          3      -1\n",
       "88         77   197          3      -1\n",
       "211       560   210          2      -1\n",
       "248       378   625          2      -1\n",
       "314       467   225          2      -1\n",
       "315       457   215          2      -1\n",
       "362       455   188          0      -1\n",
       "428       389   266          2      -1\n",
       "480       375   297          2      -1\n",
       "581       350   354          2      -1"
      ]
     },
     "execution_count": 25,
     "metadata": {},
     "output_type": "execute_result"
    }
   ],
   "source": [
    "id_counts[id_counts.labels == -1]"
   ]
  },
  {
   "cell_type": "markdown",
   "id": "a9a42dd2-8032-44f9-af2a-eb91fe18477a",
   "metadata": {},
   "source": [
    "These seem to be users that have accessed many different curriculum pages on many different dates for the most part. All but one of these users have been assigned more than 1 cohort. I would want to look into the user that has no cohort id's assigned to them.\n",
    "\n",
    "## 3\n",
    "\n",
    "Use DBSCAN to detect anomalies in number of bedrooms and finished square feet of property for the filtered dataset you used in the clustering project (single unit properties with a logerror)."
   ]
  },
  {
   "cell_type": "code",
   "execution_count": 29,
   "id": "744583f5-17b9-4074-997e-164526584e75",
   "metadata": {},
   "outputs": [
    {
     "name": "stdout",
     "output_type": "stream",
     "text": [
      "<class 'pandas.core.frame.DataFrame'>\n",
      "RangeIndex: 52441 entries, 0 to 52440\n",
      "Data columns (total 2 columns):\n",
      " #   Column                        Non-Null Count  Dtype  \n",
      "---  ------                        --------------  -----  \n",
      " 0   bedroomcnt                    52441 non-null  float64\n",
      " 1   calculatedfinishedsquarefeet  52359 non-null  float64\n",
      "dtypes: float64(2)\n",
      "memory usage: 819.5 KB\n"
     ]
    }
   ],
   "source": [
    "# We'll use this SQL query to select the Zillow data from the database.\n",
    "sql = '''\n",
    "SELECT\n",
    "    bedroomcnt,\n",
    "    calculatedfinishedsquarefeet\n",
    "FROM properties_2017\n",
    "JOIN propertylandusetype\n",
    "    ON propertylandusetype.propertylandusetypeid = properties_2017.propertylandusetypeid\n",
    "    AND (propertylandusetype.propertylandusedesc IN ('Single Family Residential', 'Inferred Single Family Residential'))\n",
    "JOIN predictions_2017 ON properties_2017.parcelid = predictions_2017.parcelid\n",
    "AND predictions_2017.transactiondate LIKE '2017%%';\n",
    "'''\n",
    "\n",
    "# Download the data from the MySQL database.\n",
    "zillow = pd.read_sql(sql, get_db_url('zillow'))\n",
    "zillow.info()"
   ]
  },
  {
   "cell_type": "code",
   "execution_count": 30,
   "id": "c679486b-01d5-4a20-97d6-9422861c9308",
   "metadata": {},
   "outputs": [
    {
     "data": {
      "text/plain": [
       "bedroomcnt                      0\n",
       "calculatedfinishedsquarefeet    0\n",
       "dtype: int64"
      ]
     },
     "execution_count": 30,
     "metadata": {},
     "output_type": "execute_result"
    }
   ],
   "source": [
    "# Let's drop all the nulls so we have a clean dataframe.\n",
    "zillow = zillow.dropna()\n",
    "zillow.isnull().sum()"
   ]
  },
  {
   "cell_type": "code",
   "execution_count": 33,
   "id": "7e1ddd67-6bfe-4697-8f08-c09d7426a983",
   "metadata": {},
   "outputs": [
    {
     "data": {
      "text/html": [
       "<div>\n",
       "<style scoped>\n",
       "    .dataframe tbody tr th:only-of-type {\n",
       "        vertical-align: middle;\n",
       "    }\n",
       "\n",
       "    .dataframe tbody tr th {\n",
       "        vertical-align: top;\n",
       "    }\n",
       "\n",
       "    .dataframe thead th {\n",
       "        text-align: right;\n",
       "    }\n",
       "</style>\n",
       "<table border=\"1\" class=\"dataframe\">\n",
       "  <thead>\n",
       "    <tr style=\"text-align: right;\">\n",
       "      <th></th>\n",
       "      <th>bedroomcnt</th>\n",
       "      <th>calculatedfinishedsquarefeet</th>\n",
       "    </tr>\n",
       "  </thead>\n",
       "  <tbody>\n",
       "    <tr>\n",
       "      <th>0</th>\n",
       "      <td>0.285714</td>\n",
       "      <td>0.136324</td>\n",
       "    </tr>\n",
       "    <tr>\n",
       "      <th>1</th>\n",
       "      <td>0.142857</td>\n",
       "      <td>0.061327</td>\n",
       "    </tr>\n",
       "  </tbody>\n",
       "</table>\n",
       "</div>"
      ],
      "text/plain": [
       "   bedroomcnt  calculatedfinishedsquarefeet\n",
       "0    0.285714                      0.136324\n",
       "1    0.142857                      0.061327"
      ]
     },
     "execution_count": 33,
     "metadata": {},
     "output_type": "execute_result"
    }
   ],
   "source": [
    "# Now let's scale the data before creating the DBSCAN model.\n",
    "# Splitting data is for over-achievers.\n",
    "scaler = MinMaxScaler()\n",
    "zillow_scaled = pd.DataFrame(scaler.fit_transform(zillow), columns = zillow.columns)\n",
    "zillow_scaled.head(2)"
   ]
  },
  {
   "cell_type": "code",
   "execution_count": 34,
   "id": "87172362-4932-49e9-9b6a-c164eb23e4ef",
   "metadata": {},
   "outputs": [
    {
     "data": {
      "text/plain": [
       "DBSCAN(eps=0.1, min_samples=20)"
      ]
     },
     "execution_count": 34,
     "metadata": {},
     "output_type": "execute_result"
    }
   ],
   "source": [
    "# Now let's create and fit the DBSCAN model on our un-split data.\n",
    "db_scan = DBSCAN(eps = 0.1, min_samples = 20)\n",
    "db_scan.fit(zillow_scaled)"
   ]
  },
  {
   "cell_type": "code",
   "execution_count": 35,
   "id": "006c8e25-f659-4fef-a14b-8f21b4a4f805",
   "metadata": {},
   "outputs": [],
   "source": [
    "# Now we can assign the labels created by DBSCAN to the original dataframe.\n",
    "zillow['labels'] = db_scan.labels_"
   ]
  },
  {
   "cell_type": "code",
   "execution_count": 36,
   "id": "2cc800c3-8846-4815-81b2-ad24406da2e0",
   "metadata": {},
   "outputs": [
    {
     "data": {
      "image/png": "[encoded data removed]",
      "text/plain": [
       "<Figure size 432x288 with 1 Axes>"
      ]
     },
     "metadata": {
      "needs_background": "light"
     },
     "output_type": "display_data"
    }
   ],
   "source": [
    "# Finally let's see the results.\n",
    "\n",
    "sns.scatterplot(data = zillow, x = 'bedroomcnt', y = 'calculatedfinishedsquarefeet', hue = 'labels');"
   ]
  },
  {
   "cell_type": "code",
   "execution_count": 37,
   "id": "3e561254-97c0-4d8f-9317-ade33b6d0073",
   "metadata": {},
   "outputs": [
    {
     "data": {
      "text/html": [
       "<div>\n",
       "<style scoped>\n",
       "    .dataframe tbody tr th:only-of-type {\n",
       "        vertical-align: middle;\n",
       "    }\n",
       "\n",
       "    .dataframe tbody tr th {\n",
       "        vertical-align: top;\n",
       "    }\n",
       "\n",
       "    .dataframe thead th {\n",
       "        text-align: right;\n",
       "    }\n",
       "</style>\n",
       "<table border=\"1\" class=\"dataframe\">\n",
       "  <thead>\n",
       "    <tr style=\"text-align: right;\">\n",
       "      <th></th>\n",
       "      <th>bedroomcnt</th>\n",
       "      <th>calculatedfinishedsquarefeet</th>\n",
       "      <th>labels</th>\n",
       "    </tr>\n",
       "  </thead>\n",
       "  <tbody>\n",
       "    <tr>\n",
       "      <th>590</th>\n",
       "      <td>0.0</td>\n",
       "      <td>5782.0</td>\n",
       "      <td>-1</td>\n",
       "    </tr>\n",
       "    <tr>\n",
       "      <th>4864</th>\n",
       "      <td>8.0</td>\n",
       "      <td>21929.0</td>\n",
       "      <td>-1</td>\n",
       "    </tr>\n",
       "    <tr>\n",
       "      <th>5740</th>\n",
       "      <td>14.0</td>\n",
       "      <td>18654.0</td>\n",
       "      <td>-1</td>\n",
       "    </tr>\n",
       "    <tr>\n",
       "      <th>16571</th>\n",
       "      <td>7.0</td>\n",
       "      <td>20612.0</td>\n",
       "      <td>-1</td>\n",
       "    </tr>\n",
       "    <tr>\n",
       "      <th>21981</th>\n",
       "      <td>11.0</td>\n",
       "      <td>4012.0</td>\n",
       "      <td>-1</td>\n",
       "    </tr>\n",
       "    <tr>\n",
       "      <th>27017</th>\n",
       "      <td>6.0</td>\n",
       "      <td>13598.0</td>\n",
       "      <td>-1</td>\n",
       "    </tr>\n",
       "    <tr>\n",
       "      <th>28105</th>\n",
       "      <td>6.0</td>\n",
       "      <td>15450.0</td>\n",
       "      <td>-1</td>\n",
       "    </tr>\n",
       "    <tr>\n",
       "      <th>29557</th>\n",
       "      <td>12.0</td>\n",
       "      <td>8469.0</td>\n",
       "      <td>-1</td>\n",
       "    </tr>\n",
       "    <tr>\n",
       "      <th>29558</th>\n",
       "      <td>12.0</td>\n",
       "      <td>8469.0</td>\n",
       "      <td>-1</td>\n",
       "    </tr>\n",
       "    <tr>\n",
       "      <th>29559</th>\n",
       "      <td>12.0</td>\n",
       "      <td>8469.0</td>\n",
       "      <td>-1</td>\n",
       "    </tr>\n",
       "    <tr>\n",
       "      <th>33311</th>\n",
       "      <td>10.0</td>\n",
       "      <td>4294.0</td>\n",
       "      <td>-1</td>\n",
       "    </tr>\n",
       "    <tr>\n",
       "      <th>43724</th>\n",
       "      <td>7.0</td>\n",
       "      <td>14829.0</td>\n",
       "      <td>-1</td>\n",
       "    </tr>\n",
       "    <tr>\n",
       "      <th>48495</th>\n",
       "      <td>10.0</td>\n",
       "      <td>17245.0</td>\n",
       "      <td>-1</td>\n",
       "    </tr>\n",
       "  </tbody>\n",
       "</table>\n",
       "</div>"
      ],
      "text/plain": [
       "       bedroomcnt  calculatedfinishedsquarefeet  labels\n",
       "590           0.0                        5782.0      -1\n",
       "4864          8.0                       21929.0      -1\n",
       "5740         14.0                       18654.0      -1\n",
       "16571         7.0                       20612.0      -1\n",
       "21981        11.0                        4012.0      -1\n",
       "27017         6.0                       13598.0      -1\n",
       "28105         6.0                       15450.0      -1\n",
       "29557        12.0                        8469.0      -1\n",
       "29558        12.0                        8469.0      -1\n",
       "29559        12.0                        8469.0      -1\n",
       "33311        10.0                        4294.0      -1\n",
       "43724         7.0                       14829.0      -1\n",
       "48495        10.0                       17245.0      -1"
      ]
     },
     "execution_count": 37,
     "metadata": {},
     "output_type": "execute_result"
    }
   ],
   "source": [
    "# Let's see the rows that were labeled as anomalies.\n",
    "zillow[zillow.labels == -1]"
   ]
  },
  {
   "cell_type": "markdown",
   "id": "ca84ec3b-61cd-4542-b5c5-cdf333806d5b",
   "metadata": {},
   "source": [
    "It looks like the anomalies are homes that are either excessively large or have an excessive amount of bedrooms with one that has 0 bedrooms. I think the 0 bedroom home definitely requires additional investigation."
   ]
  }
 ],
 "metadata": {
  "kernelspec": {
   "display_name": "Python 3 (ipykernel)",
   "language": "python",
   "name": "python3"
  },
  "language_info": {
   "codemirror_mode": {
    "name": "ipython",
    "version": 3
   },
   "file_extension": ".py",
   "mimetype": "text/x-python",
   "name": "python",
   "nbconvert_exporter": "python",
   "pygments_lexer": "ipython3",
   "version": "3.9.7"
  }
 },
 "nbformat": 4,
 "nbformat_minor": 5
}
